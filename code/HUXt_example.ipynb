{
 "cells": [
  {
   "cell_type": "markdown",
   "metadata": {},
   "source": [
    "<h2>HUXt examples.</h2>\n",
    "\n",
    "This notebook contains several examples of how to use the HUXt, as described in Owens et al (2020)."
   ]
  },
  {
   "cell_type": "code",
   "execution_count": null,
   "metadata": {},
   "outputs": [],
   "source": [
    "import numpy as np\n",
    "import astropy.units as u\n",
    "from astropy.time import Time\n",
    "import matplotlib.pyplot as plt\n",
    "import matplotlib.dates as mdates\n",
    "import huxt as H\n",
    "import huxt_analysis as HA\n",
    "import huxt_inputs as Hin"
   ]
  },
  {
   "cell_type": "markdown",
   "metadata": {},
   "source": [
    "Run HUXt in 1D (along one longitude) with user specified V boundary conditions and no CMEs"
   ]
  },
  {
   "cell_type": "code",
   "execution_count": null,
   "metadata": {},
   "outputs": [],
   "source": [
    "#Form longitudinal boundary conditions - background wind of 400 km/s with two fast streams.\n",
    "v_boundary = np.ones(128) * 400 * (u.km/u.s)\n",
    "v_boundary[30:50] = 600 * (u.km/u.s)\n",
    "v_boundary[95:125] = 700 * (u.km/u.s)\n",
    "\n",
    "# This boundary condition looks like\n",
    "fig, ax = plt.subplots(figsize=(10,5))\n",
    "ax.plot(v_boundary,'k-')\n",
    "ax.set_xlabel('Longitude bin')\n",
    "ax.set_ylabel('Input Wind Speed (km/s)')\n",
    "ax.set_xlim(0,128)\n",
    "\n",
    "# Setup HUXt to do a 5 day simulation, with model output every 4 timesteps (roughly half and hour time step), looking at 0 longitude\n",
    "model = H.HUXt(v_boundary=v_boundary, lon_out=0.0*u.deg, simtime=10*u.day, dt_scale=4)\n",
    "\n",
    "# Solve these conditions, with no ConeCMEs added.\n",
    "cme_list = []\n",
    "model.solve(cme_list)\n",
    "\n",
    "# Plot the radial profile of the ambient wind profile at a fixed time (in days). \n",
    "t = 1.5*u.day\n",
    "HA.plot_radial(model, t, lon=0.0)\n",
    "\n",
    "# Plot the time series of the ambient wind profile at a fixed radius. \n",
    "r = 1.0*u.AU\n",
    "HA.plot_timeseries(model, r, lon=0.0)"
   ]
  },
  {
   "cell_type": "markdown",
   "metadata": {},
   "source": [
    "Run HUXt in 1D (along one longitude) with user specified boundary conditions and single Cone CME"
   ]
  },
  {
   "cell_type": "code",
   "execution_count": null,
   "metadata": {},
   "outputs": [],
   "source": [
    "# Set up a ConeCME that launches half a day after the simulation begins, at 0 longitude, 30 degree width, speed 850km/s and thickness=5 solar radii\n",
    "cme = H.ConeCME(t_launch=0.5*u.day, longitude=0.0*u.deg, width=30*u.deg, v=850*(u.km/u.s), thickness=5*u.solRad)\n",
    "cme_list = [cme]\n",
    "\n",
    "# Setup HUXt to do a 5 day simulation, with model output every 4 timesteps (roughly half and hour time step), looking at 0 longitude\n",
    "model = H.HUXt(v_boundary=v_boundary, lon_out=0.0*u.deg, simtime=5*u.day, dt_scale=4)\n",
    "\n",
    "# Run the model, and this time save the results to file.\n",
    "model.solve(cme_list, save=True, tag='1d_conecme_test')\n",
    "\n",
    "# Plot the radial profile and time series of both the ambient and ConeCME solutions at a fixed time (in days). \n",
    "# Save both to file as well. These are saved in HUXt>figures>HUXt1D\n",
    "t = 2*u.day\n",
    "HA.plot_radial(model, t, lon=0.0*u.deg, save=True)\n",
    "\n",
    "r = 1.0*u.AU\n",
    "HA.plot_timeseries(model, r, lon=0.0*u.deg, tag='1d_cone_test_radial')"
   ]
  },
  {
   "cell_type": "markdown",
   "metadata": {},
   "source": [
    "Now run HUXt using boundary conditions taken from HelioMAS output."
   ]
  },
  {
   "cell_type": "code",
   "execution_count": null,
   "metadata": {},
   "outputs": [],
   "source": [
    "#HUXt can be initiated MAS, by specifying a carrington rotation number\n",
    "cr = 2054\n",
    "vr_in = Hin.get_MAS_long_profile(cr, 0.0*u.deg)\n",
    "\n",
    "model = H.HUXt(v_boundary=vr_in, cr_num=cr, lon_out=0.0*u.deg, simtime=27.27*u.day, dt_scale=4)\n",
    "\n",
    "# Solve these conditions with a ConeCME.\n",
    "cme = H.ConeCME(t_launch=0.5*u.day, longitude=0.0*u.deg, width=30*u.deg, v=1000*(u.km/u.s), thickness=10*u.solRad)\n",
    "cme_list = [cme]\n",
    "model.solve(cme_list)\n",
    "\n",
    "# Plot the radial profile of the ambient wind solution at a fixed time (in days). \n",
    "t = 1.5*u.day\n",
    "HA.plot_radial(model, t, lon=0.0*u.deg)\n",
    "\n",
    "# Plot the time series of the ambient wind solution at a fixed radius. \n",
    "r = 1.0*u.AU\n",
    "HA.plot_timeseries(model, r, lon=0.0*u.deg)\n"
   ]
  },
  {
   "cell_type": "markdown",
   "metadata": {},
   "source": [
    "HUXt can also be run over multiple longitudes. Here HUXt is run over all longitudes, with user specified boundary conditions and a single CME"
   ]
  },
  {
   "cell_type": "code",
   "execution_count": null,
   "metadata": {},
   "outputs": [],
   "source": [
    "#  Form boundary conditions - background wind of 400 km/s with two fast streams.\n",
    "v_boundary = np.ones(128) * 400 * (u.km/u.s)\n",
    "v_boundary[30:50] = 600 * (u.km/u.s)\n",
    "v_boundary[95:125] = 700 * (u.km/u.s)\n",
    "\n",
    "#  Add a CME\n",
    "cme = H.ConeCME(t_launch=0.5*u.day, longitude=0.0*u.deg, width=30*u.deg, v=1000*(u.km/u.s), thickness=5*u.solRad)\n",
    "cme_list = [cme]\n",
    "\n",
    "#  Setup HUXt to do a 5 day simulation, with model output every 4 timesteps (roughly half and hour time step)\n",
    "model = H.HUXt(v_boundary=v_boundary, simtime=5*u.day, dt_scale=4)\n",
    "\n",
    "model.solve(cme_list)\n",
    "\n",
    "# Plot this out\n",
    "t_interest = 1.5*u.day\n",
    "fig, ax = HA.plot(model, t_interest)"
   ]
  },
  {
   "cell_type": "markdown",
   "metadata": {},
   "source": [
    "There is also a function to animate these data. They are saved in HUXt>Figures"
   ]
  },
  {
   "cell_type": "code",
   "execution_count": null,
   "metadata": {},
   "outputs": [],
   "source": [
    "HA.animate(model, tag='cone_cme_test') # This takes about two minutes."
   ]
  },
  {
   "cell_type": "markdown",
   "metadata": {},
   "source": [
    "HUXt results can be saved to a HDF5 file, either automatically in the solve method, or by a separate save method. There is also a load function. "
   ]
  },
  {
   "cell_type": "code",
   "execution_count": null,
   "metadata": {},
   "outputs": [],
   "source": [
    "out_path = model.save(tag='cone_cme_test')\n",
    "# And loaded back in with\n",
    "model2, cme_list2 = H.load_HUXt_run(out_path)"
   ]
  },
  {
   "cell_type": "markdown",
   "metadata": {},
   "source": [
    "CMEs are trackd through the HUXt domain using test particles that advect with the flow. These coordinates are accessible via the ConeCME objects."
   ]
  },
  {
   "cell_type": "code",
   "execution_count": null,
   "metadata": {},
   "outputs": [],
   "source": [
    "cme = model.cmes[0]\n",
    "timestep = 50\n",
    "r = cme.coords[timestep]['r'].to(u.solRad)\n",
    "lon = cme.coords[timestep]['lon']\n",
    "x = r * np.cos(lon)\n",
    "y = r * np.sin(lon)\n",
    "\n",
    "# There is also a \"front_id\" field to separate the nose and rear.\n",
    "id_front = cme.coords[timestep]['front_id'] == 1.0\n",
    "id_back = cme.coords[timestep]['front_id'] == 0.0\n",
    "\n",
    "fig, ax = plt.subplots() # compare this with the boundary in the frame above.\n",
    "ax.plot(x[id_front] , y[id_front] , 'r.')\n",
    "ax.plot(x[id_back] , y[id_back] , 'kx')\n",
    "ax.set_xlabel('X ($R_{sun}$)')\n",
    "ax.set_ylabel('Y ($R_{sun}$)')"
   ]
  },
  {
   "cell_type": "markdown",
   "metadata": {},
   "source": [
    "Multiple Cone CMEs can be inserted into HUXt in any run. Also, functions are provided to download inner boundary conditions from the HelioMAS model. Below we set up HUXt to run for Carrington rotation 2100, retrieving the boundary condition from Predictive Science (unless it is already downloaded). Then three Cone CMEs are inserted, and the output animated."
   ]
  },
  {
   "cell_type": "code",
   "execution_count": null,
   "metadata": {},
   "outputs": [],
   "source": [
    "#  Get inner boundary condition from Carrington rotation 2100\n",
    "cr=2100\n",
    "vr_in = Hin.get_MAS_long_profile(cr, 0.0*u.deg)\n",
    "#  Setup HUXt to do a 5 day simulation, with model output every 4 timesteps (roughly half and hour time step).\n",
    "model = H.HUXt(v_boundary=vr_in, cr_num=cr, simtime=5*u.day, dt_scale=4)\n",
    "\n",
    "# Produce a list of ConeCMEs to pass to HUXt\n",
    "daysec = 86400\n",
    "times = [0.5*daysec, 1.5*daysec, 3*daysec]\n",
    "speeds = [850, 1000, 700]\n",
    "lons = [0, 90, 300]\n",
    "widths = [30, 40, 20]\n",
    "thickness = [5, 4, 2]\n",
    "cme_list = []\n",
    "for t, l, w, v, thick in zip(times, lons, widths, speeds, thickness):\n",
    "    cme = H.ConeCME(t_launch=t*u.s, longitude=l*u.deg, width=w*u.deg, v=v*model.kms, thickness=thick*u.solRad)\n",
    "    cme_list.append(cme)\n",
    "\n",
    "model.solve(cme_list, save=True, tag='multi_cones') # This takes a minute or so to run. \n",
    "HA.plot(model, 3.5*u.day)\n",
    "#HA.animate(model, tag='multi_cones')"
   ]
  },
  {
   "cell_type": "markdown",
   "metadata": {},
   "source": [
    "There is also an ephemeris of the HEEQ, HAE, and Carrington coordiates of Earth, Mercury, Venus, STEREO-A and STEREO-B"
   ]
  },
  {
   "cell_type": "code",
   "execution_count": null,
   "metadata": {},
   "outputs": [],
   "source": [
    "# These are automatically plotted on model solutions derived from a particular Carrington rotation.\n",
    "HA.plot(model, model.time_out[0])\n",
    "\n",
    "# You can retrieve a bodies position at each model timestep like:\n",
    "earth = model.get_observer('earth')\n",
    "sta = model.get_observer('sta')\n",
    "venus = model.get_observer('venus')\n",
    "\n",
    "# The bodies HEEQ and Carrington coordinates are attributes.\n",
    "# So to plot them:\n",
    "fig, ax = plt.subplots(subplot_kw={\"projection\": \"polar\"})\n",
    "ax.plot(earth.lon, earth.r, 'co')\n",
    "ax.plot(sta.lon, sta.r, 'rs')\n",
    "ax.plot(venus.lon, venus.r, 'mo')"
   ]
  },
  {
   "cell_type": "markdown",
   "metadata": {},
   "source": [
    "A function is provided to lookup the solar wind speed time series at Earth"
   ]
  },
  {
   "cell_type": "code",
   "execution_count": null,
   "metadata": {},
   "outputs": [],
   "source": [
    "# Lookup Earth time series.\n",
    "earth_series = HA.get_earth_timeseries(model)\n",
    "\n",
    "# Plot this out and format the dates. \n",
    "fig, ax = plt.subplots(figsize=(10,5))\n",
    "ax.plot(earth_series['time'], earth_series['vsw'])\n",
    "myFmt = mdates.DateFormatter('%m-%d')\n",
    "ax.xaxis.set_major_formatter(myFmt)\n",
    "ax.set_xlabel('Date (mm-dd)')\n",
    "ax.set_ylabel('Solar Wind Speed (km/s)')\n",
    "\n"
   ]
  },
  {
   "cell_type": "markdown",
   "metadata": {},
   "source": [
    "HUXt can also be run over a limited range of longitudes. As HUXt is a purely radial model, it can be run over any set of longitudes. This could save disk-space and runtime if you are interested in large ensembles. This is done with the `lon_start` and `lon_stop` arguments.\n"
   ]
  },
  {
   "cell_type": "code",
   "execution_count": null,
   "metadata": {},
   "outputs": [],
   "source": [
    "# Set up HUXt over a limited longitude range.\n",
    "cr=2120\n",
    "vr_in = Hin.get_MAS_long_profile(cr,0.0*u.deg)\n",
    "model = H.HUXt(v_boundary=vr_in, cr_num=cr, lon_start=300*u.deg, lon_stop=60*u.deg, simtime=5*u.day, dt_scale=4)\n",
    "\n",
    "# Get a list of two ConeCMEs\n",
    "daysec = 86400\n",
    "times = [0.5*daysec, 2*daysec]\n",
    "speeds = [1000, 850]\n",
    "lons = [-20, 20]\n",
    "widths = [30, 30]\n",
    "thickness = [8, 4]\n",
    "cme_list = []\n",
    "for t, l, w, v, thick in zip(times, lons, widths, speeds, thickness):\n",
    "    cme = H.ConeCME(t_launch=t*u.s, longitude=l*u.deg, width=w*u.deg, v=v*model.kms, thickness=thick*u.solRad)\n",
    "    cme_list.append(cme)\n",
    "\n",
    "model.solve(cme_list, save=True, tag='multi_cones') \n",
    "\n",
    "t_interest = 1.5*u.day\n",
    "HA.plot(model, t_interest)"
   ]
  },
  {
   "cell_type": "markdown",
   "metadata": {},
   "source": [
    "The initial carrington longitude of Earth can be specified with the `cr_lon_init` argument. This sets the `time_init` attribute, so model times can be converted to UTC."
   ]
  },
  {
   "cell_type": "code",
   "execution_count": null,
   "metadata": {},
   "outputs": [],
   "source": [
    "cr=2120\n",
    "vr_in = Hin.get_MAS_long_profile(cr,0.0*u.deg)\n",
    "\n",
    "for cr_lon in [360, 270, 180]:\n",
    "    model = H.HUXt(v_boundary=vr_in, cr_num=cr, cr_lon_init=cr_lon*u.deg, simtime=5*u.day, dt_scale=4)\n",
    "    cme = H.ConeCME(t_launch=0.5*u.day, longitude=0.0*u.deg, width=60*u.deg, v=1000*(u.km/u.s), thickness=5*u.solRad)\n",
    "    model.solve([cme])\n",
    "    cr_tag = 'cr_lon_{:03d}'.format(np.int32(cr_lon))\n",
    "    HA.plot(model, model.time_out[50], save=True, tag=cr_tag)\n",
    "    print(model.cr_lon_init.to('deg'), model.time_init.isot)\n"
   ]
  },
  {
   "cell_type": "markdown",
   "metadata": {},
   "source": [
    "HUXt can be run with two rerfernce frames - the inner boundary is rotated with either the mean sidreal rotation rate, or with the synodic rotation rate from Earth's perspective. This is set with the `frame` argument. This doesn't always have a large effect on the solution, but can be worth considering. For example, in highly structured solar wind it can affect the CME arrival time by a few hours. "
   ]
  },
  {
   "cell_type": "code",
   "execution_count": null,
   "metadata": {},
   "outputs": [],
   "source": [
    "cr=2120\n",
    "vr_in = Hin.get_MAS_long_profile(cr,0.0*u.deg)\n",
    "\n",
    "# Synodic\n",
    "model = H.HUXt(v_boundary=vr_in, cr_num=cr, cr_lon_init=0*u.deg, simtime=5*u.day, dt_scale=4, frame='synodic')\n",
    "cme = H.ConeCME(t_launch=0.5*u.day, longitude=0.0*u.deg, width=60*u.deg, v=1000*(u.km/u.s), thickness=5*u.solRad)\n",
    "model.solve([cme])\n",
    "fig, ax = HA.plot(model, model.time_out[100], save=True, tag='synodic')\n",
    "\n",
    "# Sidereal\n",
    "model = H.HUXt(v_boundary=vr_in, cr_num=cr, cr_lon_init=0*u.deg, simtime=5*u.day, dt_scale=4, frame='sidereal')\n",
    "cme = H.ConeCME(t_launch=0.5*u.day, longitude=0.0*u.deg, width=60*u.deg, v=1000*(u.km/u.s), thickness=5*u.solRad)\n",
    "model.solve([cme])\n",
    "fig, ax = HA.plot(model, model.time_out[100], save=True, tag='sidereal')"
   ]
  },
  {
   "cell_type": "markdown",
   "metadata": {},
   "source": [
    "A function is included to compute the arrival time of CMEs at the solar system bodies available in the Observer class - Mercury, Venus, Earth, STEREO-A and STEREO-B. We will use this to show how the different synoidc and sidereal frames can affect the CMEs arrival time. In this instance the CME is strongly affected by a high speed stream, and the CME arrival time at Earth is about 4 hours different for the synodic and sidereal frames. "
   ]
  },
  {
   "cell_type": "code",
   "execution_count": null,
   "metadata": {},
   "outputs": [],
   "source": [
    "cr=2056\n",
    "vr_in = Hin.get_MAS_long_profile(cr, 0.0*u.deg)\n",
    "\n",
    "#  Synodic\n",
    "for frame in ['sidereal', 'synodic']:\n",
    "    model = H.HUXt(v_boundary=vr_in, cr_num=cr, cr_lon_init=0*u.deg, simtime=5*u.day, dt_scale=4, frame=frame)\n",
    "    cme = H.ConeCME(t_launch=0.5*u.day, longitude=0.0*u.deg, width=45*u.deg, v=1000*(u.km/u.s), thickness=5*u.solRad)\n",
    "    model.solve([cme])\n",
    "    cme = model.cmes[0]\n",
    "    hit, t_arrive, t_transit, hit_lon, hit_id = cme.compute_arrival_at_body('EARTH')\n",
    "    \n",
    "    #  Plot the solution at the nearest time step to impact.\n",
    "    HA.plot(model, model.time_out[hit_id])\n",
    "    \n",
    "    #  Print out some arrival stats\n",
    "    print(\"**************************************\")\n",
    "    print(\"{}: Earth arrival:{},  Transit time:{:3.2f} days, Arrival longitude:{:3.2f}\".format(frame, t_arrive.isot, t_transit, hit_lon))\n"
   ]
  },
  {
   "cell_type": "markdown",
   "metadata": {},
   "source": [
    "Most of the model parameters are attributes of the HUXt class and so can be accessed like:"
   ]
  },
  {
   "cell_type": "code",
   "execution_count": null,
   "metadata": {},
   "outputs": [],
   "source": [
    "# Model time step from the CFL condition:\n",
    "print(model.dt)\n",
    "# Output model time step\n",
    "print(model.dt_out)\n",
    "# A list of all attributes is in the documentation\n",
    "help(model)"
   ]
  },
  {
   "cell_type": "markdown",
   "metadata": {},
   "source": [
    "The inner boundary of HUXt defaults to 30Rs. But it can be specified by the user. To use the HelioMAS solutions with lower inner boundary heights, a function is provided to give an approximate mapping between the 30Rs solution and a lower specified height. Below, the 30Rs solution is mapped to 5Rs"
   ]
  },
  {
   "cell_type": "code",
   "execution_count": null,
   "metadata": {},
   "outputs": [],
   "source": [
    "# Setup HUXt for a standard 30Rs run\n",
    "cr = 2054\n",
    "vr_in = Hin.get_MAS_long_profile(cr,0.0*u.deg)\n",
    "#now run HUXt\n",
    "model = H.HUXt(v_boundary=vr_in, cr_num=cr, latitude=0*u.deg,\n",
    "               simtime=5*u.day, dt_scale=4)\n",
    "model.solve([]) \n",
    "\n",
    "t_interest=3*u.day\n",
    "HA.plot(model, t_interest)\n",
    "\n",
    "#  Map the inner boundary MAS values inwards from 30 rS to 5 rS\n",
    "vr_5rs = Hin.map_v_boundary_inwards(vr_in, 30*u.solRad, 5*u.solRad)\n",
    "\n",
    "#  Now setup HUXt to run from 5Rs\n",
    "model = H.HUXt(v_boundary=vr_5rs, cr_num=cr, simtime=5*u.day, \n",
    "               latitude=0*u.deg, dt_scale=4, r_min=5*u.solRad)\n",
    "model.solve([])\n",
    "\n",
    "t_interest=3*u.day\n",
    "HA.plot(model, t_interest)\n"
   ]
  },
  {
   "cell_type": "markdown",
   "metadata": {},
   "source": [
    "There is some limited support for running HUXt in 3D. Currently this amounts to a wrapper class, `HUXt3D`, that computes the longitudinal solutions for a range of longitudes. "
   ]
  },
  {
   "cell_type": "code",
   "execution_count": null,
   "metadata": {},
   "outputs": [],
   "source": [
    "#set up a meridional cut run.\n",
    "cr=2000\n",
    "vmap, vlats, vlongs = Hin.get_MAS_maps(cr)\n",
    "\n",
    "model3d=H.HUXt3d(cr_num=cr,v_map=vmap, v_map_lat=vlats, v_map_long=vlongs,\n",
    "                    latitude_max=90*u.deg, latitude_min=-90*u.deg, lon_out=0.0*u.deg,\n",
    "                    simtime=3*u.day, r_min=30*u.solRad)\n",
    "\n",
    "cme = H.ConeCME(t_launch=0.5*u.day, longitude=0.0*u.deg, latitude=0.0*u.deg,\n",
    "                width=30*u.deg, v=1000*(u.km/u.s), thickness=5*u.solRad)\n",
    "\n",
    "#run the model\n",
    "cme_list=[cme]\n",
    "model3d.solve(cme_list)\n",
    "\n",
    "#plot the meridional cut\n",
    "HA.plot_3d_meridional(model3d, 2*u.day, lon=0*u.deg)\n",
    "\n",
    "#animate the meridional cut\n",
    "HA.animate_3d(model3d, lon=0*u.deg, tag='model3d')\n"
   ]
  }
 ],
 "metadata": {
  "kernelspec": {
   "display_name": "Python 3 (ipykernel)",
   "language": "python",
   "name": "python3"
  },
  "language_info": {
   "codemirror_mode": {
    "name": "ipython",
    "version": 3
   },
   "file_extension": ".py",
   "mimetype": "text/x-python",
   "name": "python",
   "nbconvert_exporter": "python",
   "pygments_lexer": "ipython3",
   "version": "3.7.12"
  }
 },
 "nbformat": 4,
 "nbformat_minor": 4
}
