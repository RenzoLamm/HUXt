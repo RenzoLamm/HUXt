{
 "cells": [
  {
   "cell_type": "code",
   "execution_count": 1,
   "id": "8f233dcd",
   "metadata": {},
   "outputs": [],
   "source": [
    "import numpy as np\n",
    "import astropy.units as u\n",
    "from astropy.time import Time\n",
    "import sunpy.coordinates.sun as sn\n",
    "import matplotlib.pyplot as plt\n",
    "import matplotlib.dates as mdates\n",
    "import huxt as H\n",
    "import huxt_analysis as HA\n",
    "import huxt_inputs as Hin"
   ]
  },
  {
   "cell_type": "code",
   "execution_count": 2,
   "id": "48277562",
   "metadata": {},
   "outputs": [
    {
     "name": "stdout",
     "output_type": "stream",
     "text": [
      "Carrington rotation: 2254.0\n",
      "Earth Carrington Lon at init: 210.67 deg\n",
      "Earth HEEQ Lat at init: -7.00 deg\n"
     ]
    }
   ],
   "source": [
    "t_obs = Time(\"2022-02-19T12:00:00\")\n",
    "cr_num = np.fix(sn.carrington_rotation_number(t_obs))\n",
    "ert = H.Observer('EARTH', t_obs)\n",
    "\n",
    "print(\"Carrington rotation: {}\".format(cr_num))\n",
    "print(\"Earth Carrington Lon at init: {:3.2f}\".format(ert.lon_c.to(u.deg)))\n",
    "print(\"Earth HEEQ Lat at init: {:3.2f}\".format(ert.lat.to(u.deg)))\n",
    "\n"
   ]
  },
  {
   "cell_type": "code",
   "execution_count": 3,
   "id": "3ae0a282",
   "metadata": {},
   "outputs": [
    {
     "name": "stdout",
     "output_type": "stream",
     "text": [
      "Files already exist for CR2100\n"
     ]
    }
   ],
   "source": [
    "#Get MAS bc's for this CR\n",
    "vr_in = Hin.get_MAS_long_profile(2100, ert.lat.to(u.deg))\n"
   ]
  },
  {
   "cell_type": "code",
   "execution_count": 4,
   "id": "98e6318b",
   "metadata": {},
   "outputs": [],
   "source": [
    "# Set up HUXt for a 10 day simulation\n",
    "model = H.HUXt(v_boundary=vr_in, cr_num=cr_num, cr_lon_init=ert.lon_c, latitude=ert.lat.to(u.deg),\n",
    "               simtime=10*u.day, dt_scale=4)\n"
   ]
  },
  {
   "cell_type": "code",
   "execution_count": 6,
   "id": "d4fb941c",
   "metadata": {},
   "outputs": [
    {
     "name": "stdout",
     "output_type": "stream",
     "text": [
      "Generating V time series from prescribed v(long)\n",
      "Adding CMEs to input time series \n",
      "Moviepy - Building video C:\\Users\\yq904481\\research\\repos\\HUXt\\figures\\HUXt_CR2254_cone2bc_test_movie.mp4.\n",
      "Moviepy - Writing video C:\\Users\\yq904481\\research\\repos\\HUXt\\figures\\HUXt_CR2254_cone2bc_test_movie.mp4\n",
      "\n"
     ]
    },
    {
     "name": "stderr",
     "output_type": "stream",
     "text": [
      "                                                                                                                       "
     ]
    },
    {
     "name": "stdout",
     "output_type": "stream",
     "text": [
      "Moviepy - Done !\n",
      "Moviepy - video ready C:\\Users\\yq904481\\research\\repos\\HUXt\\figures\\HUXt_CR2254_cone2bc_test_movie.mp4\n"
     ]
    },
    {
     "name": "stderr",
     "output_type": "stream",
     "text": [
      "\r"
     ]
    }
   ],
   "source": [
    "cme_list = Hin.ConeFile_to_ConeCME_list(model, \"cone2bc.in\")\n",
    "model.solve(cme_list)\n",
    "HA.animate(model, tag='cone2bc_test') # This takes about two minutes."
   ]
  }
 ],
 "metadata": {
  "kernelspec": {
   "display_name": "Python 3 (ipykernel)",
   "language": "python",
   "name": "python3"
  },
  "language_info": {
   "codemirror_mode": {
    "name": "ipython",
    "version": 3
   },
   "file_extension": ".py",
   "mimetype": "text/x-python",
   "name": "python",
   "nbconvert_exporter": "python",
   "pygments_lexer": "ipython3",
   "version": "3.7.12"
  }
 },
 "nbformat": 4,
 "nbformat_minor": 5
}
